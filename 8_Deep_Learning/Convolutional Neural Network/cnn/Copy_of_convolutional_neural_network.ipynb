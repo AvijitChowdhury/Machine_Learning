{
 "cells": [
  {
   "cell_type": "markdown",
   "metadata": {
    "id": "3DR-eO17geWu"
   },
   "source": [
    "# Convolutional Neural Network"
   ]
  },
  {
   "cell_type": "markdown",
   "metadata": {
    "id": "EMefrVPCg-60"
   },
   "source": [
    "### Importing the libraries"
   ]
  },
  {
   "cell_type": "code",
   "execution_count": 31,
   "metadata": {
    "id": "zeLG0zgjg-uq"
   },
   "outputs": [],
   "source": [
    "import tensorflow as tf\n",
    "from keras.preprocessing.image import ImageDataGenerator"
   ]
  },
  {
   "cell_type": "code",
   "execution_count": 32,
   "metadata": {
    "colab": {
     "base_uri": "https://localhost:8080/",
     "height": 35
    },
    "id": "1K5GMfg5htFK",
    "outputId": "4f800212-1e0a-4a93-b90b-9e46a1e1d0de"
   },
   "outputs": [
    {
     "data": {
      "text/plain": [
       "'2.9.1'"
      ]
     },
     "execution_count": 32,
     "metadata": {},
     "output_type": "execute_result"
    }
   ],
   "source": [
    "tf.__version__"
   ]
  },
  {
   "cell_type": "markdown",
   "metadata": {
    "id": "oxQxCBWyoGPE"
   },
   "source": [
    "## Part 1 - Data Preprocessing"
   ]
  },
  {
   "cell_type": "code",
   "execution_count": 33,
   "metadata": {
    "colab": {
     "base_uri": "https://localhost:8080/",
     "height": 382
    },
    "id": "mF8O-6cKiHHk",
    "outputId": "5266da71-54e7-44f7-d5db-502abde70324"
   },
   "outputs": [
    {
     "name": "stdout",
     "output_type": "stream",
     "text": [
      "Found 5421 images belonging to 2 classes.\n"
     ]
    }
   ],
   "source": [
    " train_datagen = ImageDataGenerator(\n",
    "        rescale=1./255,\n",
    "        shear_range=0.2,\n",
    "        zoom_range=0.2,\n",
    "        horizontal_flip=True)\n",
    " training_set = train_datagen.flow_from_directory(\n",
    "        'dataset/training_set',\n",
    "        target_size=(64, 64),\n",
    "        batch_size=32,\n",
    "        class_mode='binary')"
   ]
  },
  {
   "cell_type": "markdown",
   "metadata": {
    "id": "MvE-heJNo3GG"
   },
   "source": [
    "### Preprocessing the Training set"
   ]
  },
  {
   "cell_type": "code",
   "execution_count": 34,
   "metadata": {
    "id": "PbQMf4USnaRZ"
   },
   "outputs": [
    {
     "name": "stdout",
     "output_type": "stream",
     "text": [
      "Found 0 images belonging to 2 classes.\n"
     ]
    }
   ],
   "source": [
    "test_datagen = ImageDataGenerator(rescale=1./255)\n",
    "test_set = test_datagen.flow_from_directory(\n",
    "        'dataset/test_set',\n",
    "        target_size=(64, 64),\n",
    "        batch_size=32,\n",
    "        class_mode='binary')"
   ]
  },
  {
   "cell_type": "markdown",
   "metadata": {
    "id": "af8O4l90gk7B"
   },
   "source": [
    "## Part 2 - Building the CNN"
   ]
  },
  {
   "cell_type": "markdown",
   "metadata": {
    "id": "ces1gXY2lmoX"
   },
   "source": [
    "### Initialising the CNN"
   ]
  },
  {
   "cell_type": "code",
   "execution_count": 35,
   "metadata": {
    "id": "MnvLVH57skVf"
   },
   "outputs": [],
   "source": [
    "cnn = tf.keras.models.Sequential()"
   ]
  },
  {
   "cell_type": "markdown",
   "metadata": {
    "id": "u5YJj_XMl5LF"
   },
   "source": [
    "### Step 1 - Convolution"
   ]
  },
  {
   "cell_type": "code",
   "execution_count": 36,
   "metadata": {
    "id": "wkfweZGThnuf"
   },
   "outputs": [],
   "source": [
    "cnn.add(tf.keras.layers.Conv2D(filters = 32,kernel_size=3, activation = 'relu', input_shape=[64,64,3]))"
   ]
  },
  {
   "cell_type": "markdown",
   "metadata": {
    "id": "tf87FpvxmNOJ"
   },
   "source": [
    "### Step 2 - Pooling"
   ]
  },
  {
   "cell_type": "code",
   "execution_count": 37,
   "metadata": {
    "id": "OfGAabSZhkl6"
   },
   "outputs": [],
   "source": [
    "cnn.add(tf.keras.layers.MaxPool2D(pool_size=(2,2),strides = 2))"
   ]
  },
  {
   "cell_type": "markdown",
   "metadata": {
    "id": "xaTOgD8rm4mU"
   },
   "source": [
    "### Adding a second convolutional layer"
   ]
  },
  {
   "cell_type": "code",
   "execution_count": 38,
   "metadata": {
    "id": "l241ulCqjAe6"
   },
   "outputs": [],
   "source": [
    "cnn.add(tf.keras.layers.Conv2D(filters = 32,kernel_size=3, activation = 'relu'))\n",
    "cnn.add(tf.keras.layers.MaxPool2D(pool_size=(2,2),strides = 2))"
   ]
  },
  {
   "cell_type": "markdown",
   "metadata": {
    "id": "tmiEuvTunKfk"
   },
   "source": [
    "### Step 3 - Flattening"
   ]
  },
  {
   "cell_type": "code",
   "execution_count": 39,
   "metadata": {
    "id": "OddaK-E4jM51"
   },
   "outputs": [],
   "source": [
    "cnn.add(tf.keras.layers.Flatten())"
   ]
  },
  {
   "cell_type": "markdown",
   "metadata": {
    "id": "dAoSECOm203v"
   },
   "source": [
    "### Step 4 - Full Connection"
   ]
  },
  {
   "cell_type": "code",
   "execution_count": 40,
   "metadata": {
    "id": "f28iaWuNjZQN"
   },
   "outputs": [],
   "source": [
    "cnn.add(tf.keras.layers.Dense(units=128, activation='relu'))"
   ]
  },
  {
   "cell_type": "markdown",
   "metadata": {
    "id": "yTldFvbX28Na"
   },
   "source": [
    "### Step 5 - Output Layer"
   ]
  },
  {
   "cell_type": "code",
   "execution_count": 41,
   "metadata": {
    "id": "uST7hW66j3Ie"
   },
   "outputs": [],
   "source": [
    "cnn.add(tf.keras.layers.Dense(units=1, activation='sigmoid'))"
   ]
  },
  {
   "cell_type": "markdown",
   "metadata": {
    "id": "D6XkI90snSDl"
   },
   "source": [
    "## Part 3 - Training the CNN"
   ]
  },
  {
   "cell_type": "markdown",
   "metadata": {
    "id": "vfrFQACEnc6i"
   },
   "source": [
    "### Compiling the CNN"
   ]
  },
  {
   "cell_type": "code",
   "execution_count": 47,
   "metadata": {
    "id": "JLrBVSLZmWzj"
   },
   "outputs": [],
   "source": [
    "cnn.compile(optimizer='adam',loss='binary_crossentropy',metrics=['accuracy'])"
   ]
  },
  {
   "cell_type": "markdown",
   "metadata": {
    "id": "ehS-v3MIpX2h"
   },
   "source": [
    "### Training the CNN on the Training set and evaluating it on the Test set"
   ]
  },
  {
   "cell_type": "code",
   "execution_count": 48,
   "metadata": {
    "id": "8w1eWuC0mdY6"
   },
   "outputs": [
    {
     "name": "stdout",
     "output_type": "stream",
     "text": [
      "Epoch 1/25\n",
      "170/170 [==============================] - 227s 1s/step - loss: 0.5474 - accuracy: 0.7397\n",
      "Epoch 2/25\n",
      "170/170 [==============================] - 40s 234ms/step - loss: 0.5098 - accuracy: 0.7530\n",
      "Epoch 3/25\n",
      "170/170 [==============================] - 39s 229ms/step - loss: 0.4771 - accuracy: 0.7685\n",
      "Epoch 4/25\n",
      "170/170 [==============================] - 37s 218ms/step - loss: 0.4591 - accuracy: 0.7821\n",
      "Epoch 5/25\n",
      "170/170 [==============================] - 29s 168ms/step - loss: 0.4480 - accuracy: 0.7873\n",
      "Epoch 6/25\n",
      "170/170 [==============================] - 28s 165ms/step - loss: 0.4299 - accuracy: 0.8063\n",
      "Epoch 7/25\n",
      "170/170 [==============================] - 26s 152ms/step - loss: 0.4096 - accuracy: 0.8137\n",
      "Epoch 8/25\n",
      "170/170 [==============================] - 30s 177ms/step - loss: 0.4048 - accuracy: 0.8163\n",
      "Epoch 9/25\n",
      "170/170 [==============================] - 34s 201ms/step - loss: 0.3919 - accuracy: 0.8190\n",
      "Epoch 10/25\n",
      "170/170 [==============================] - 30s 174ms/step - loss: 0.3898 - accuracy: 0.8272\n",
      "Epoch 11/25\n",
      "170/170 [==============================] - 23s 137ms/step - loss: 0.3813 - accuracy: 0.8345\n",
      "Epoch 12/25\n",
      "170/170 [==============================] - 26s 152ms/step - loss: 0.3669 - accuracy: 0.8355\n",
      "Epoch 13/25\n",
      "170/170 [==============================] - 30s 174ms/step - loss: 0.3684 - accuracy: 0.8332\n",
      "Epoch 14/25\n",
      "170/170 [==============================] - 26s 156ms/step - loss: 0.3569 - accuracy: 0.8458\n",
      "Epoch 15/25\n",
      "170/170 [==============================] - 28s 166ms/step - loss: 0.3437 - accuracy: 0.8500\n",
      "Epoch 16/25\n",
      "170/170 [==============================] - 22s 127ms/step - loss: 0.3289 - accuracy: 0.8580\n",
      "Epoch 17/25\n",
      "170/170 [==============================] - 25s 148ms/step - loss: 0.3261 - accuracy: 0.8559\n",
      "Epoch 18/25\n",
      "170/170 [==============================] - 22s 128ms/step - loss: 0.3213 - accuracy: 0.8639\n",
      "Epoch 19/25\n",
      "170/170 [==============================] - 20s 119ms/step - loss: 0.3067 - accuracy: 0.8674\n",
      "Epoch 20/25\n",
      "170/170 [==============================] - 20s 116ms/step - loss: 0.2976 - accuracy: 0.8718\n",
      "Epoch 21/25\n",
      "170/170 [==============================] - 19s 114ms/step - loss: 0.3050 - accuracy: 0.8664\n",
      "Epoch 22/25\n",
      "170/170 [==============================] - 20s 115ms/step - loss: 0.2832 - accuracy: 0.8781\n",
      "Epoch 23/25\n",
      "170/170 [==============================] - 20s 118ms/step - loss: 0.2660 - accuracy: 0.8871\n",
      "Epoch 24/25\n",
      "170/170 [==============================] - 22s 127ms/step - loss: 0.2595 - accuracy: 0.8888\n",
      "Epoch 25/25\n",
      "170/170 [==============================] - 23s 138ms/step - loss: 0.2593 - accuracy: 0.8921\n"
     ]
    },
    {
     "data": {
      "text/plain": [
       "<keras.callbacks.History at 0x24868951730>"
      ]
     },
     "execution_count": 48,
     "metadata": {},
     "output_type": "execute_result"
    }
   ],
   "source": [
    "cnn.fit(x= training_set, validation_data=test_set,epochs=25)"
   ]
  },
  {
   "cell_type": "markdown",
   "metadata": {
    "id": "U3PZasO0006Z"
   },
   "source": [
    "## Part 4 - Making a single prediction"
   ]
  },
  {
   "cell_type": "code",
   "execution_count": 50,
   "metadata": {
    "id": "pCQF052rnTQK"
   },
   "outputs": [
    {
     "name": "stdout",
     "output_type": "stream",
     "text": [
      "1/1 [==============================] - 0s 19ms/step\n",
      "dog\n"
     ]
    }
   ],
   "source": [
    "import numpy as np\n",
    "from keras.preprocessing import image\n",
    "test_image = tf.keras.preprocessing.image.load_img('dataset/single_prediction/cat_or_dog_1.jpg',target_size=(64,64))\n",
    "test_image = tf.keras.preprocessing.image.img_to_array(test_image)\n",
    "test_image = np.expand_dims(test_image, axis = 0)\n",
    "result = cnn.predict(test_image)\n",
    "training_set.class_indices\n",
    "\n",
    "if(result[0][0]==1):\n",
    "  prediction='dog'\n",
    "else:\n",
    "  prediction='cat'\n",
    "\n",
    "print(prediction)  "
   ]
  },
  {
   "cell_type": "code",
   "execution_count": 51,
   "metadata": {},
   "outputs": [
    {
     "name": "stdout",
     "output_type": "stream",
     "text": [
      "1/1 [==============================] - 0s 13ms/step\n",
      "cat\n"
     ]
    }
   ],
   "source": [
    "test_image = tf.keras.preprocessing.image.load_img('dataset/single_prediction/cat_or_dog_2.jpg',target_size=(64,64))\n",
    "test_image = tf.keras.preprocessing.image.img_to_array(test_image)\n",
    "test_image = np.expand_dims(test_image, axis = 0)\n",
    "result = cnn.predict(test_image)\n",
    "training_set.class_indices\n",
    "\n",
    "if(result[0][0]==1):\n",
    "  prediction='dog'\n",
    "else:\n",
    "  prediction='cat'\n",
    "\n",
    "print(prediction)  "
   ]
  },
  {
   "cell_type": "code",
   "execution_count": 52,
   "metadata": {},
   "outputs": [
    {
     "name": "stdout",
     "output_type": "stream",
     "text": [
      "1/1 [==============================] - 0s 19ms/step\n",
      "dog\n"
     ]
    }
   ],
   "source": [
    "test_image = tf.keras.preprocessing.image.load_img('dataset/single_prediction/dog.30.jpg',target_size=(64,64))\n",
    "test_image = tf.keras.preprocessing.image.img_to_array(test_image)\n",
    "test_image = np.expand_dims(test_image, axis = 0)\n",
    "result = cnn.predict(test_image)\n",
    "training_set.class_indices\n",
    "\n",
    "if(result[0][0]==1):\n",
    "  prediction='dog'\n",
    "else:\n",
    "  prediction='cat'\n",
    "\n",
    "print(prediction)  "
   ]
  },
  {
   "cell_type": "code",
   "execution_count": 59,
   "metadata": {},
   "outputs": [
    {
     "name": "stdout",
     "output_type": "stream",
     "text": [
      "1/1 [==============================] - 0s 16ms/step\n",
      "dog\n"
     ]
    }
   ],
   "source": [
    "test_image = tf.keras.preprocessing.image.load_img('dataset/single_prediction/cat149.jpg',target_size=(64,64))\n",
    "test_image = tf.keras.preprocessing.image.img_to_array(test_image)\n",
    "test_image = np.expand_dims(test_image, axis = 0)\n",
    "result = cnn.predict(test_image)\n",
    "training_set.class_indices\n",
    "\n",
    "if(result[0][0]==1):\n",
    "  prediction='dog'\n",
    "else:\n",
    "  prediction='cat'\n",
    "\n",
    "print(prediction)  "
   ]
  },
  {
   "cell_type": "code",
   "execution_count": null,
   "metadata": {},
   "outputs": [],
   "source": []
  }
 ],
 "metadata": {
  "colab": {
   "collapsed_sections": [],
   "name": "Copy of convolutional_neural_network.ipynb",
   "provenance": []
  },
  "kernelspec": {
   "display_name": "Python 3 (ipykernel)",
   "language": "python",
   "name": "python3"
  },
  "language_info": {
   "codemirror_mode": {
    "name": "ipython",
    "version": 3
   },
   "file_extension": ".py",
   "mimetype": "text/x-python",
   "name": "python",
   "nbconvert_exporter": "python",
   "pygments_lexer": "ipython3",
   "version": "3.9.7"
  }
 },
 "nbformat": 4,
 "nbformat_minor": 1
}
